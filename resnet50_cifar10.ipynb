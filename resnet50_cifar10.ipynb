{
  "nbformat": 4,
  "nbformat_minor": 0,
  "metadata": {
    "colab": {
      "name": "resnet50_cifar10.ipynb",
      "provenance": [],
      "collapsed_sections": [],
      "include_colab_link": true
    },
    "kernelspec": {
      "name": "python3",
      "display_name": "Python 3"
    },
    "accelerator": "GPU"
  },
  "cells": [
    {
      "cell_type": "markdown",
      "metadata": {
        "id": "view-in-github",
        "colab_type": "text"
      },
      "source": [
        "<a href=\"https://colab.research.google.com/github/CrucifierBladex/cifar10_resnet50/blob/main/resnet50_cifar10.ipynb\" target=\"_parent\"><img src=\"https://colab.research.google.com/assets/colab-badge.svg\" alt=\"Open In Colab\"/></a>"
      ]
    },
    {
      "cell_type": "code",
      "metadata": {
        "id": "GSkHXBZOeyMv"
      },
      "source": [
        "from keras import layers,models"
      ],
      "execution_count": 1,
      "outputs": []
    },
    {
      "cell_type": "code",
      "metadata": {
        "id": "xJU3aJugIlOp",
        "outputId": "e3ca0c10-eebe-4f8b-dbcb-ba4750473e2a",
        "colab": {
          "base_uri": "https://localhost:8080/"
        }
      },
      "source": [
        "from tensorflow.python.client import device_lib\n",
        "device_lib.list_local_devices()"
      ],
      "execution_count": 2,
      "outputs": [
        {
          "output_type": "execute_result",
          "data": {
            "text/plain": [
              "[name: \"/device:CPU:0\"\n",
              " device_type: \"CPU\"\n",
              " memory_limit: 268435456\n",
              " locality {\n",
              " }\n",
              " incarnation: 3058594379461742954, name: \"/device:XLA_CPU:0\"\n",
              " device_type: \"XLA_CPU\"\n",
              " memory_limit: 17179869184\n",
              " locality {\n",
              " }\n",
              " incarnation: 1512456209920551169\n",
              " physical_device_desc: \"device: XLA_CPU device\", name: \"/device:XLA_GPU:0\"\n",
              " device_type: \"XLA_GPU\"\n",
              " memory_limit: 17179869184\n",
              " locality {\n",
              " }\n",
              " incarnation: 17923648540333046810\n",
              " physical_device_desc: \"device: XLA_GPU device\", name: \"/device:GPU:0\"\n",
              " device_type: \"GPU\"\n",
              " memory_limit: 14640891840\n",
              " locality {\n",
              "   bus_id: 1\n",
              "   links {\n",
              "   }\n",
              " }\n",
              " incarnation: 17751149358850644639\n",
              " physical_device_desc: \"device: 0, name: Tesla T4, pci bus id: 0000:00:04.0, compute capability: 7.5\"]"
            ]
          },
          "metadata": {
            "tags": []
          },
          "execution_count": 2
        }
      ]
    },
    {
      "cell_type": "code",
      "metadata": {
        "id": "IF7PtHt_t4ml",
        "outputId": "86c97970-50d7-435f-d43a-2805b4ae0379",
        "colab": {
          "base_uri": "https://localhost:8080/"
        }
      },
      "source": [
        "from keras.applications.resnet50 import ResNet50\n",
        "from keras.layers import *\n",
        "from keras.models import *\n",
        "base_model=ResNet50(weights='imagenet',include_top=False,input_shape=(32,32,3))\n",
        "model=Sequential()\n",
        "model.add(base_model)\n",
        "model.add(layers.Flatten())\n",
        "model.add(layers.Dense(1024,activation='relu'))\n",
        "model.add(Dropout(0.5))\n",
        "model.add(Dense(512,activation='relu'))\n",
        "model.add(layers.Dense(10,activation='softmax'))\n",
        "model.compile(optimizer='adam',loss='categorical_crossentropy',metrics=['accuracy'])\n"
      ],
      "execution_count": 3,
      "outputs": [
        {
          "output_type": "stream",
          "text": [
            "Downloading data from https://storage.googleapis.com/tensorflow/keras-applications/resnet/resnet50_weights_tf_dim_ordering_tf_kernels_notop.h5\n",
            "94773248/94765736 [==============================] - 1s 0us/step\n"
          ],
          "name": "stdout"
        }
      ]
    },
    {
      "cell_type": "code",
      "metadata": {
        "id": "Wd4wC-hVgFoE",
        "outputId": "6c997fc1-7642-4f4e-f9ca-d1bae07f0f82",
        "colab": {
          "base_uri": "https://localhost:8080/"
        }
      },
      "source": [
        "from keras.datasets import cifar10\n",
        "from keras.utils import to_categorical\n",
        "(train_images,train_labels),(test_images,test_labels)=cifar10.load_data()"
      ],
      "execution_count": 4,
      "outputs": [
        {
          "output_type": "stream",
          "text": [
            "Downloading data from https://www.cs.toronto.edu/~kriz/cifar-10-python.tar.gz\n",
            "170500096/170498071 [==============================] - 6s 0us/step\n"
          ],
          "name": "stdout"
        }
      ]
    },
    {
      "cell_type": "code",
      "metadata": {
        "id": "YYgSjLIFgpGZ"
      },
      "source": [
        ""
      ],
      "execution_count": 4,
      "outputs": []
    },
    {
      "cell_type": "code",
      "metadata": {
        "id": "x4iax1PKgeMA"
      },
      "source": [
        "train_images=train_images.reshape((50000,32,32,3))\n",
        "train_images=train_images.astype('float32')/255\n",
        "test_images=test_images.reshape((10000,32,32,3))\n",
        "test_images=test_images.astype('float32')/255\n",
        "\n"
      ],
      "execution_count": 5,
      "outputs": []
    },
    {
      "cell_type": "code",
      "metadata": {
        "id": "vAtn6ZgEhCBM"
      },
      "source": [
        "train_labels=to_categorical(train_labels)\n",
        "test_labels=to_categorical(test_labels)\n"
      ],
      "execution_count": 6,
      "outputs": []
    },
    {
      "cell_type": "code",
      "metadata": {
        "id": "sLbp6XEDhL3-"
      },
      "source": [
        "model.compile(optimizer='adam',loss='categorical_crossentropy',metrics=['accuracy'])\n"
      ],
      "execution_count": 7,
      "outputs": []
    },
    {
      "cell_type": "code",
      "metadata": {
        "id": "8Ehg2-o0hXRJ",
        "outputId": "2bbeeda7-806a-4c50-a694-643fbf7aee08",
        "colab": {
          "base_uri": "https://localhost:8080/"
        }
      },
      "source": [
        "history=model.fit(train_images,train_labels,epochs=30,batch_size=32,validation_data=(test_images,test_labels))"
      ],
      "execution_count": 8,
      "outputs": [
        {
          "output_type": "stream",
          "text": [
            "Epoch 1/30\n",
            "1563/1563 [==============================] - 62s 40ms/step - loss: 1.6176 - accuracy: 0.4582 - val_loss: 1.8428 - val_accuracy: 0.3699\n",
            "Epoch 2/30\n",
            "1563/1563 [==============================] - 60s 39ms/step - loss: 1.4145 - accuracy: 0.5091 - val_loss: 1.4827 - val_accuracy: 0.4992\n",
            "Epoch 3/30\n",
            "1563/1563 [==============================] - 61s 39ms/step - loss: 1.2066 - accuracy: 0.5818 - val_loss: 1.9754 - val_accuracy: 0.3666\n",
            "Epoch 4/30\n",
            "1563/1563 [==============================] - 61s 39ms/step - loss: 1.2769 - accuracy: 0.5657 - val_loss: 1.5483 - val_accuracy: 0.4636\n",
            "Epoch 5/30\n",
            "1563/1563 [==============================] - 61s 39ms/step - loss: 1.1199 - accuracy: 0.6192 - val_loss: 1.1350 - val_accuracy: 0.6044\n",
            "Epoch 6/30\n",
            "1563/1563 [==============================] - 61s 39ms/step - loss: 0.9140 - accuracy: 0.6940 - val_loss: 0.9471 - val_accuracy: 0.6783\n",
            "Epoch 7/30\n",
            "1563/1563 [==============================] - 61s 39ms/step - loss: 0.7985 - accuracy: 0.7330 - val_loss: 0.8446 - val_accuracy: 0.7132\n",
            "Epoch 8/30\n",
            "1563/1563 [==============================] - 61s 39ms/step - loss: 0.7146 - accuracy: 0.7606 - val_loss: 0.8826 - val_accuracy: 0.7093\n",
            "Epoch 9/30\n",
            "1563/1563 [==============================] - 61s 39ms/step - loss: 0.6480 - accuracy: 0.7876 - val_loss: 1.0654 - val_accuracy: 0.6663\n",
            "Epoch 10/30\n",
            "1563/1563 [==============================] - 61s 39ms/step - loss: 0.6175 - accuracy: 0.7989 - val_loss: 0.7390 - val_accuracy: 0.7588\n",
            "Epoch 11/30\n",
            "1563/1563 [==============================] - 61s 39ms/step - loss: 0.5121 - accuracy: 0.8320 - val_loss: 0.9827 - val_accuracy: 0.6951\n",
            "Epoch 12/30\n",
            "1563/1563 [==============================] - 61s 39ms/step - loss: 0.4548 - accuracy: 0.8522 - val_loss: 0.7299 - val_accuracy: 0.7760\n",
            "Epoch 13/30\n",
            "1563/1563 [==============================] - 61s 39ms/step - loss: 0.4207 - accuracy: 0.8638 - val_loss: 0.8118 - val_accuracy: 0.7478\n",
            "Epoch 14/30\n",
            "1563/1563 [==============================] - 61s 39ms/step - loss: 0.3962 - accuracy: 0.8732 - val_loss: 0.8145 - val_accuracy: 0.7568\n",
            "Epoch 15/30\n",
            "1563/1563 [==============================] - 60s 39ms/step - loss: 0.3792 - accuracy: 0.8808 - val_loss: 0.7911 - val_accuracy: 0.7572\n",
            "Epoch 16/30\n",
            "1563/1563 [==============================] - 60s 39ms/step - loss: 0.3344 - accuracy: 0.8959 - val_loss: 0.8752 - val_accuracy: 0.7474\n",
            "Epoch 17/30\n",
            "1563/1563 [==============================] - 61s 39ms/step - loss: 0.2628 - accuracy: 0.9164 - val_loss: 1.7038 - val_accuracy: 0.5660\n",
            "Epoch 18/30\n",
            "1563/1563 [==============================] - 61s 39ms/step - loss: 0.3194 - accuracy: 0.8984 - val_loss: 0.9019 - val_accuracy: 0.7667\n",
            "Epoch 19/30\n",
            "1563/1563 [==============================] - 61s 39ms/step - loss: 0.2066 - accuracy: 0.9338 - val_loss: 1.0338 - val_accuracy: 0.7435\n",
            "Epoch 20/30\n",
            "1563/1563 [==============================] - 61s 39ms/step - loss: 0.2310 - accuracy: 0.9293 - val_loss: 1.2728 - val_accuracy: 0.7174\n",
            "Epoch 21/30\n",
            "1563/1563 [==============================] - 61s 39ms/step - loss: 0.2155 - accuracy: 0.9327 - val_loss: 0.9322 - val_accuracy: 0.7623\n",
            "Epoch 22/30\n",
            "1563/1563 [==============================] - 61s 39ms/step - loss: 0.2714 - accuracy: 0.9165 - val_loss: 0.8120 - val_accuracy: 0.7722\n",
            "Epoch 23/30\n",
            "1563/1563 [==============================] - 61s 39ms/step - loss: 0.2413 - accuracy: 0.9264 - val_loss: 1.2732 - val_accuracy: 0.7001\n",
            "Epoch 24/30\n",
            "1563/1563 [==============================] - 61s 39ms/step - loss: 0.1743 - accuracy: 0.9470 - val_loss: 1.3943 - val_accuracy: 0.7648\n",
            "Epoch 25/30\n",
            "1563/1563 [==============================] - 61s 39ms/step - loss: 0.1487 - accuracy: 0.9567 - val_loss: 1.2223 - val_accuracy: 0.7173\n",
            "Epoch 26/30\n",
            "1563/1563 [==============================] - 61s 39ms/step - loss: 0.1594 - accuracy: 0.9528 - val_loss: 1.1409 - val_accuracy: 0.7573\n",
            "Epoch 27/30\n",
            "1563/1563 [==============================] - 61s 39ms/step - loss: 0.1676 - accuracy: 0.9499 - val_loss: 1.3909 - val_accuracy: 0.6972\n",
            "Epoch 28/30\n",
            "1563/1563 [==============================] - 61s 39ms/step - loss: 0.1481 - accuracy: 0.9568 - val_loss: 1.6140 - val_accuracy: 0.7602\n",
            "Epoch 29/30\n",
            "1563/1563 [==============================] - 61s 39ms/step - loss: 0.1316 - accuracy: 0.9629 - val_loss: 1.8647 - val_accuracy: 0.7201\n",
            "Epoch 30/30\n",
            "1563/1563 [==============================] - 61s 39ms/step - loss: 0.1291 - accuracy: 0.9619 - val_loss: 1.1723 - val_accuracy: 0.7576\n"
          ],
          "name": "stdout"
        }
      ]
    },
    {
      "cell_type": "code",
      "metadata": {
        "id": "gIVUIq_VFdjc",
        "outputId": "e37f43e0-52cb-48d2-9dbd-19bdfa09dd3a",
        "colab": {
          "base_uri": "https://localhost:8080/"
        }
      },
      "source": [
        "history.history.keys()"
      ],
      "execution_count": 9,
      "outputs": [
        {
          "output_type": "execute_result",
          "data": {
            "text/plain": [
              "dict_keys(['loss', 'accuracy', 'val_loss', 'val_accuracy'])"
            ]
          },
          "metadata": {
            "tags": []
          },
          "execution_count": 9
        }
      ]
    },
    {
      "cell_type": "code",
      "metadata": {
        "id": "8wWcl_SWmsu-",
        "outputId": "255f3c1f-27f4-4bd7-aedc-7c80aab21352",
        "colab": {
          "base_uri": "https://localhost:8080/",
          "height": 1000
        }
      },
      "source": [
        "import pandas as pd\n",
        "his=pd.DataFrame(history.history)\n",
        "import matplotlib.pyplot as plt\n",
        "import seaborn as sns\n",
        "sns.set(style='darkgrid')\n",
        "his.plot(y='loss')\n",
        "his"
      ],
      "execution_count": 10,
      "outputs": [
        {
          "output_type": "execute_result",
          "data": {
            "text/html": [
              "<div>\n",
              "<style scoped>\n",
              "    .dataframe tbody tr th:only-of-type {\n",
              "        vertical-align: middle;\n",
              "    }\n",
              "\n",
              "    .dataframe tbody tr th {\n",
              "        vertical-align: top;\n",
              "    }\n",
              "\n",
              "    .dataframe thead th {\n",
              "        text-align: right;\n",
              "    }\n",
              "</style>\n",
              "<table border=\"1\" class=\"dataframe\">\n",
              "  <thead>\n",
              "    <tr style=\"text-align: right;\">\n",
              "      <th></th>\n",
              "      <th>loss</th>\n",
              "      <th>accuracy</th>\n",
              "      <th>val_loss</th>\n",
              "      <th>val_accuracy</th>\n",
              "    </tr>\n",
              "  </thead>\n",
              "  <tbody>\n",
              "    <tr>\n",
              "      <th>0</th>\n",
              "      <td>1.617608</td>\n",
              "      <td>0.45820</td>\n",
              "      <td>1.842784</td>\n",
              "      <td>0.3699</td>\n",
              "    </tr>\n",
              "    <tr>\n",
              "      <th>1</th>\n",
              "      <td>1.414467</td>\n",
              "      <td>0.50912</td>\n",
              "      <td>1.482673</td>\n",
              "      <td>0.4992</td>\n",
              "    </tr>\n",
              "    <tr>\n",
              "      <th>2</th>\n",
              "      <td>1.206640</td>\n",
              "      <td>0.58178</td>\n",
              "      <td>1.975416</td>\n",
              "      <td>0.3666</td>\n",
              "    </tr>\n",
              "    <tr>\n",
              "      <th>3</th>\n",
              "      <td>1.276853</td>\n",
              "      <td>0.56570</td>\n",
              "      <td>1.548275</td>\n",
              "      <td>0.4636</td>\n",
              "    </tr>\n",
              "    <tr>\n",
              "      <th>4</th>\n",
              "      <td>1.119866</td>\n",
              "      <td>0.61924</td>\n",
              "      <td>1.134971</td>\n",
              "      <td>0.6044</td>\n",
              "    </tr>\n",
              "    <tr>\n",
              "      <th>5</th>\n",
              "      <td>0.914039</td>\n",
              "      <td>0.69402</td>\n",
              "      <td>0.947111</td>\n",
              "      <td>0.6783</td>\n",
              "    </tr>\n",
              "    <tr>\n",
              "      <th>6</th>\n",
              "      <td>0.798501</td>\n",
              "      <td>0.73298</td>\n",
              "      <td>0.844576</td>\n",
              "      <td>0.7132</td>\n",
              "    </tr>\n",
              "    <tr>\n",
              "      <th>7</th>\n",
              "      <td>0.714575</td>\n",
              "      <td>0.76062</td>\n",
              "      <td>0.882639</td>\n",
              "      <td>0.7093</td>\n",
              "    </tr>\n",
              "    <tr>\n",
              "      <th>8</th>\n",
              "      <td>0.648027</td>\n",
              "      <td>0.78764</td>\n",
              "      <td>1.065406</td>\n",
              "      <td>0.6663</td>\n",
              "    </tr>\n",
              "    <tr>\n",
              "      <th>9</th>\n",
              "      <td>0.617497</td>\n",
              "      <td>0.79890</td>\n",
              "      <td>0.739038</td>\n",
              "      <td>0.7588</td>\n",
              "    </tr>\n",
              "    <tr>\n",
              "      <th>10</th>\n",
              "      <td>0.512091</td>\n",
              "      <td>0.83198</td>\n",
              "      <td>0.982735</td>\n",
              "      <td>0.6951</td>\n",
              "    </tr>\n",
              "    <tr>\n",
              "      <th>11</th>\n",
              "      <td>0.454773</td>\n",
              "      <td>0.85220</td>\n",
              "      <td>0.729940</td>\n",
              "      <td>0.7760</td>\n",
              "    </tr>\n",
              "    <tr>\n",
              "      <th>12</th>\n",
              "      <td>0.420684</td>\n",
              "      <td>0.86382</td>\n",
              "      <td>0.811808</td>\n",
              "      <td>0.7478</td>\n",
              "    </tr>\n",
              "    <tr>\n",
              "      <th>13</th>\n",
              "      <td>0.396236</td>\n",
              "      <td>0.87324</td>\n",
              "      <td>0.814479</td>\n",
              "      <td>0.7568</td>\n",
              "    </tr>\n",
              "    <tr>\n",
              "      <th>14</th>\n",
              "      <td>0.379230</td>\n",
              "      <td>0.88076</td>\n",
              "      <td>0.791103</td>\n",
              "      <td>0.7572</td>\n",
              "    </tr>\n",
              "    <tr>\n",
              "      <th>15</th>\n",
              "      <td>0.334375</td>\n",
              "      <td>0.89592</td>\n",
              "      <td>0.875218</td>\n",
              "      <td>0.7474</td>\n",
              "    </tr>\n",
              "    <tr>\n",
              "      <th>16</th>\n",
              "      <td>0.262798</td>\n",
              "      <td>0.91642</td>\n",
              "      <td>1.703793</td>\n",
              "      <td>0.5660</td>\n",
              "    </tr>\n",
              "    <tr>\n",
              "      <th>17</th>\n",
              "      <td>0.319375</td>\n",
              "      <td>0.89838</td>\n",
              "      <td>0.901867</td>\n",
              "      <td>0.7667</td>\n",
              "    </tr>\n",
              "    <tr>\n",
              "      <th>18</th>\n",
              "      <td>0.206629</td>\n",
              "      <td>0.93378</td>\n",
              "      <td>1.033797</td>\n",
              "      <td>0.7435</td>\n",
              "    </tr>\n",
              "    <tr>\n",
              "      <th>19</th>\n",
              "      <td>0.231031</td>\n",
              "      <td>0.92930</td>\n",
              "      <td>1.272790</td>\n",
              "      <td>0.7174</td>\n",
              "    </tr>\n",
              "    <tr>\n",
              "      <th>20</th>\n",
              "      <td>0.215537</td>\n",
              "      <td>0.93270</td>\n",
              "      <td>0.932247</td>\n",
              "      <td>0.7623</td>\n",
              "    </tr>\n",
              "    <tr>\n",
              "      <th>21</th>\n",
              "      <td>0.271352</td>\n",
              "      <td>0.91654</td>\n",
              "      <td>0.812005</td>\n",
              "      <td>0.7722</td>\n",
              "    </tr>\n",
              "    <tr>\n",
              "      <th>22</th>\n",
              "      <td>0.241272</td>\n",
              "      <td>0.92640</td>\n",
              "      <td>1.273242</td>\n",
              "      <td>0.7001</td>\n",
              "    </tr>\n",
              "    <tr>\n",
              "      <th>23</th>\n",
              "      <td>0.174265</td>\n",
              "      <td>0.94704</td>\n",
              "      <td>1.394281</td>\n",
              "      <td>0.7648</td>\n",
              "    </tr>\n",
              "    <tr>\n",
              "      <th>24</th>\n",
              "      <td>0.148667</td>\n",
              "      <td>0.95670</td>\n",
              "      <td>1.222311</td>\n",
              "      <td>0.7173</td>\n",
              "    </tr>\n",
              "    <tr>\n",
              "      <th>25</th>\n",
              "      <td>0.159437</td>\n",
              "      <td>0.95276</td>\n",
              "      <td>1.140924</td>\n",
              "      <td>0.7573</td>\n",
              "    </tr>\n",
              "    <tr>\n",
              "      <th>26</th>\n",
              "      <td>0.167611</td>\n",
              "      <td>0.94990</td>\n",
              "      <td>1.390938</td>\n",
              "      <td>0.6972</td>\n",
              "    </tr>\n",
              "    <tr>\n",
              "      <th>27</th>\n",
              "      <td>0.148061</td>\n",
              "      <td>0.95682</td>\n",
              "      <td>1.613984</td>\n",
              "      <td>0.7602</td>\n",
              "    </tr>\n",
              "    <tr>\n",
              "      <th>28</th>\n",
              "      <td>0.131600</td>\n",
              "      <td>0.96294</td>\n",
              "      <td>1.864737</td>\n",
              "      <td>0.7201</td>\n",
              "    </tr>\n",
              "    <tr>\n",
              "      <th>29</th>\n",
              "      <td>0.129140</td>\n",
              "      <td>0.96192</td>\n",
              "      <td>1.172340</td>\n",
              "      <td>0.7576</td>\n",
              "    </tr>\n",
              "  </tbody>\n",
              "</table>\n",
              "</div>"
            ],
            "text/plain": [
              "        loss  accuracy  val_loss  val_accuracy\n",
              "0   1.617608   0.45820  1.842784        0.3699\n",
              "1   1.414467   0.50912  1.482673        0.4992\n",
              "2   1.206640   0.58178  1.975416        0.3666\n",
              "3   1.276853   0.56570  1.548275        0.4636\n",
              "4   1.119866   0.61924  1.134971        0.6044\n",
              "5   0.914039   0.69402  0.947111        0.6783\n",
              "6   0.798501   0.73298  0.844576        0.7132\n",
              "7   0.714575   0.76062  0.882639        0.7093\n",
              "8   0.648027   0.78764  1.065406        0.6663\n",
              "9   0.617497   0.79890  0.739038        0.7588\n",
              "10  0.512091   0.83198  0.982735        0.6951\n",
              "11  0.454773   0.85220  0.729940        0.7760\n",
              "12  0.420684   0.86382  0.811808        0.7478\n",
              "13  0.396236   0.87324  0.814479        0.7568\n",
              "14  0.379230   0.88076  0.791103        0.7572\n",
              "15  0.334375   0.89592  0.875218        0.7474\n",
              "16  0.262798   0.91642  1.703793        0.5660\n",
              "17  0.319375   0.89838  0.901867        0.7667\n",
              "18  0.206629   0.93378  1.033797        0.7435\n",
              "19  0.231031   0.92930  1.272790        0.7174\n",
              "20  0.215537   0.93270  0.932247        0.7623\n",
              "21  0.271352   0.91654  0.812005        0.7722\n",
              "22  0.241272   0.92640  1.273242        0.7001\n",
              "23  0.174265   0.94704  1.394281        0.7648\n",
              "24  0.148667   0.95670  1.222311        0.7173\n",
              "25  0.159437   0.95276  1.140924        0.7573\n",
              "26  0.167611   0.94990  1.390938        0.6972\n",
              "27  0.148061   0.95682  1.613984        0.7602\n",
              "28  0.131600   0.96294  1.864737        0.7201\n",
              "29  0.129140   0.96192  1.172340        0.7576"
            ]
          },
          "metadata": {
            "tags": []
          },
          "execution_count": 10
        },
        {
          "output_type": "display_data",
          "data": {
            "image/png": "[encoded data removed]",
            "text/plain": [
              "<Figure size 432x288 with 1 Axes>"
            ]
          },
          "metadata": {
            "tags": []
          }
        }
      ]
    },
    {
      "cell_type": "code",
      "metadata": {
        "id": "BBmPzUzTFhV0",
        "outputId": "6f4a9644-aca2-4562-9280-644577bfa36f",
        "colab": {
          "base_uri": "https://localhost:8080/",
          "height": 301
        }
      },
      "source": [
        "# summarize history for accuracy\n",
        "plt.plot(history.history['accuracy'])\n",
        "plt.plot(history.history['val_accuracy'])\n",
        "plt.title('model accuracy')\n",
        "plt.ylabel('accuracy')\n",
        "plt.xlabel('epoch')\n",
        "plt.legend(['train', 'test'], loc='upper left')\n",
        "plt.show()"
      ],
      "execution_count": 11,
      "outputs": [
        {
          "output_type": "display_data",
          "data": {
            "image/png": "[encoded data removed]",
            "text/plain": [
              "<Figure size 432x288 with 1 Axes>"
            ]
          },
          "metadata": {
            "tags": []
          }
        }
      ]
    },
    {
      "cell_type": "code",
      "metadata": {
        "id": "nwZR8Jq4GCt8",
        "outputId": "8fadc10b-e08d-4c5c-83fc-fb2c0ced751d",
        "colab": {
          "base_uri": "https://localhost:8080/",
          "height": 301
        }
      },
      "source": [
        "# summarize history for loss\n",
        "plt.plot(history.history['loss'])\n",
        "plt.plot(history.history['val_loss'])\n",
        "plt.title('model loss')\n",
        "plt.ylabel('loss')\n",
        "plt.xlabel('epoch')\n",
        "plt.legend(['train', 'test'], loc='upper left')\n",
        "plt.show()"
      ],
      "execution_count": 12,
      "outputs": [
        {
          "output_type": "display_data",
          "data": {
            "image/png": "[encoded data removed]",
            "text/plain": [
              "<Figure size 432x288 with 1 Axes>"
            ]
          },
          "metadata": {
            "tags": []
          }
        }
      ]
    },
    {
      "cell_type": "code",
      "metadata": {
        "id": "hpE1nCGjGFwf",
        "outputId": "21c0896a-a8f6-49df-d680-61a2e0cf7847",
        "colab": {
          "base_uri": "https://localhost:8080/",
          "height": 320
        }
      },
      "source": [
        "import imageio,cv2\n",
        "import matplotlib.pyplot as plt\n",
        "img=imageio.imread('/content/car_.jpeg')\n",
        "img=cv2.resize(img,(32,32))\n",
        "plt.imshow(img)\n",
        "img=img.reshape(1,32,32,3)\n",
        "img=img/255\n",
        "model.predict(img)"
      ],
      "execution_count": 15,
      "outputs": [
        {
          "output_type": "execute_result",
          "data": {
            "text/plain": [
              "array([[0.0000000e+00, 1.0000000e+00, 0.0000000e+00, 0.0000000e+00,\n",
              "        0.0000000e+00, 0.0000000e+00, 0.0000000e+00, 0.0000000e+00,\n",
              "        0.0000000e+00, 3.5514494e-32]], dtype=float32)"
            ]
          },
          "metadata": {
            "tags": []
          },
          "execution_count": 15
        },
        {
          "output_type": "display_data",
          "data": {
            "image/png": "[encoded data removed]",
            "text/plain": [
              "<Figure size 432x288 with 1 Axes>"
            ]
          },
          "metadata": {
            "tags": []
          }
        }
      ]
    },
    {
      "cell_type": "code",
      "metadata": {
        "id": "NvJJuIBzGppf",
        "outputId": "e6c00c8b-fab3-439e-bb4f-f968042aab9a",
        "colab": {
          "base_uri": "https://localhost:8080/"
        }
      },
      "source": [
        "import numpy as np\n",
        "\n",
        "np.argmax(model.predict(img))"
      ],
      "execution_count": 16,
      "outputs": [
        {
          "output_type": "execute_result",
          "data": {
            "text/plain": [
              "1"
            ]
          },
          "metadata": {
            "tags": []
          },
          "execution_count": 16
        }
      ]
    },
    {
      "cell_type": "code",
      "metadata": {
        "id": "o-VGdN01GuOn"
      },
      "source": [
        "model.save('cifar10class.h5')"
      ],
      "execution_count": null,
      "outputs": []
    },
    {
      "cell_type": "code",
      "metadata": {
        "id": "hcB0F1f0LVUW"
      },
      "source": [
        "0 : airplane\n",
        "1 : automobile\n",
        "2 : bird\n",
        "3 : cat\n",
        "4 : deer\n",
        "5 : dog\n",
        "6 : frog\n",
        "7 : horse\n",
        "8 : ship\n",
        "9 : truck"
      ],
      "execution_count": null,
      "outputs": []
    },
    {
      "cell_type": "code",
      "metadata": {
        "id": "lTvg-k4VEyhc"
      },
      "source": [
        ""
      ],
      "execution_count": null,
      "outputs": []
    }
  ]
}